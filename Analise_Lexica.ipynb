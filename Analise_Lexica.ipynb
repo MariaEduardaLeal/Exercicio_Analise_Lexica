{
  "nbformat": 4,
  "nbformat_minor": 0,
  "metadata": {
    "colab": {
      "provenance": [],
      "include_colab_link": true
    },
    "kernelspec": {
      "name": "python3",
      "display_name": "Python 3"
    },
    "language_info": {
      "name": "python"
    }
  },
  "cells": [
    {
      "cell_type": "markdown",
      "metadata": {
        "id": "view-in-github",
        "colab_type": "text"
      },
      "source": [
        "<a href=\"https://colab.research.google.com/github/MariaEduardaLeal/Exercicio_Analise_Lexica/blob/main/Analise_Lexica.ipynb\" target=\"_parent\"><img src=\"https://colab.research.google.com/assets/colab-badge.svg\" alt=\"Open In Colab\"/></a>"
      ]
    },
    {
      "cell_type": "markdown",
      "source": [
        "# Q1 - Expressões Regulares - Reconhecimento de Identificadores\n",
        "\n",
        "Escreva uma expressão regular que reconheça identificadores válidos em uma linguagem fictícia, considerando as seguintes regras:\n",
        "- Um identificador deve começar com uma letra (maiúscula ou minúscula).\n",
        "- Pode conter letras, dígitos ou sublinhado (_).\n",
        "- Deve ter no mínimo 2 caracteres e no máximo 15 caracteres.\n",
        "\n",
        "### Exemplo de linguagem\n",
        "\n",
        "identificadores = [\"variavel1\", \"_invalido\", \"a123\", \"muitoLongoIdentificadorQueNaoDeveSerValido\", \"x\", \"outro_valido\"]\n"
      ],
      "metadata": {
        "id": "C_uZIgHTOASW"
      }
    },
    {
      "cell_type": "code",
      "execution_count": null,
      "metadata": {
        "id": "gtKnlEdKNo5l"
      },
      "outputs": [],
      "source": [
        "# Importando biblioteca para trabalhar com expressões regulares\n",
        "import re"
      ]
    },
    {
      "cell_type": "code",
      "source": [
        "# Definindo a expressão regular para identificadores válidos\n",
        "regex = r'^[a-zA-Z][a-zA-Z0-9_]{1,14}$'\n",
        "\n",
        "\n",
        "# Lista de identificadores para testar\n",
        "identificadores = [\"variavel1\", \"_invalido\", \"a123\", \"muitoLongoIdentificadorQueNaoDeveSerValido\", \"x\", \"outro_valido\"]\n",
        "\n",
        "# Verificando quais identificadores são válidos\n",
        "validos = [ident for ident in identificadores if re.match(regex, ident)]\n",
        "\n",
        "print(\"Identificadores válidos:\", validos)"
      ],
      "metadata": {
        "colab": {
          "base_uri": "https://localhost:8080/"
        },
        "id": "15ugDeigPYof",
        "outputId": "4925006f-78a7-45ec-e180-61e4a9830144"
      },
      "execution_count": null,
      "outputs": [
        {
          "output_type": "stream",
          "name": "stdout",
          "text": [
            "Identificadores válidos: ['variavel1', 'a123', 'outro_valido']\n"
          ]
        }
      ]
    },
    {
      "cell_type": "markdown",
      "source": [
        "# Questão 2: Expressões Regulares - Números Inteiros e Reais\n",
        "\n",
        "Crie expressões regulares para identificar: a) Números inteiros (positivos ou negativos). b) Números reais (com e sem parte fracionária).\n",
        "\n",
        "aplique ao exemplo\n",
        "numeros = [\"123\", \"-45\", \"3.14\", \"0.5\", \"-.9\", \"-10.0\", \"abc\", \"12.\"]\n"
      ],
      "metadata": {
        "id": "Xv9S84kfR4Y7"
      }
    },
    {
      "cell_type": "code",
      "source": [],
      "metadata": {
        "id": "Hdp0JMniSbLp"
      },
      "execution_count": null,
      "outputs": []
    },
    {
      "cell_type": "markdown",
      "source": [
        "# Questão 3: Expressões Regulares - Strings Literais\n",
        "\n",
        "Crie uma expressão regular que reconheça strings literais em uma linguagem fictícia. Considere que as strings devem:\n",
        "- Estar entre aspas duplas (\" \").\n",
        "- Podem conter qualquer caractere, exceto uma quebra de linha (\\n).\n",
        "- Devem permitir o uso da barra invertida (\\) para escapar aspas.\n",
        "\n",
        "aplique ao exemplo\n",
        "strings = ['\"Hello, World!\"', '\"Linha\\ninvalida\"', '\"Escaped \\\\\"Quote\\\\\"\"', '\"Unterminated string', '\"\"']"
      ],
      "metadata": {
        "id": "F_R-6uEfSf4z"
      }
    },
    {
      "cell_type": "code",
      "source": [
        "regex = r'\"([^\"\\n]*(?:\\\\.[^\"\\n]*)*)?\"'\n",
        "\n",
        "identificadores = ['\"Hello, World!\"', '\"Linha\\ninvalida\"', '\"Escaped \\\\\"Quote\\\\\"\"', '\"Unterminated string', '\"\"']\n",
        "\n",
        "# Verificando quais identificadores são válidos\n",
        "validos = [ident for ident in identificadores if re.match(regex, ident)]\n",
        "\n",
        "print(\"Identificadores válidos:\", validos)\n"
      ],
      "metadata": {
        "colab": {
          "base_uri": "https://localhost:8080/"
        },
        "id": "UJ1k9CGCSj0i",
        "outputId": "14f1a3b9-b87c-4a62-9a63-cc0473b463eb"
      },
      "execution_count": 3,
      "outputs": [
        {
          "output_type": "stream",
          "name": "stdout",
          "text": [
            "Identificadores válidos: ['\"Hello, World!\"', '\"Escaped \\\\\"Quote\\\\\"\"', '\"\"']\n"
          ]
        }
      ]
    }
  ]
}